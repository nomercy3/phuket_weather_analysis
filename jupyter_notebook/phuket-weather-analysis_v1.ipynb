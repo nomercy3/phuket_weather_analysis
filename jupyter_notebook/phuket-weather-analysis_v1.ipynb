{
 "cells": [
  {
   "cell_type": "markdown",
   "metadata": {},
   "source": [
    "# Phuket Precipitation Analysis\n",
    "\n",
    "## Intro\n",
    "\n",
    " 1. Sunny Season, during which all of the regular tourists come.\n",
    " 2. Rain Season — the weather is unpredictable and can ruin your trip. The waves are generally high, and it's not allowed to swim in the sea.\n",
    "\n",
    "I started this project because my family is coming to Phuket to visit me during the rainy season. I was pretty concerned about the precipitation amount these days because they wanted to have fun on the beach too. However, in general, \"Rain Season\" is from May till the end of October; my family's trip dates are from 07.07 till 22.07. Further, I will be more focused on these dates (i.g. month — July) from a historical perspective.\n",
    "\n",
    "\n",
    "## Questions to be answered\n",
    "\n",
    " 1. Which month is the best to come to Phuket during the Rain Season (the weather is primarily clear)?\n",
    " 2. Which month has the highest precipitation amount and is therefore not significant to stand by?\n",
    " 3. Is rain season worth its name? Is precipitation amount so different?\n",
    " 4. What was the rainiest day in the Rain Season?\n",
    "\n",
    "\n",
    "## Disclaimer\n",
    "\n",
    "In this case study, I will use the Code Table D-7: Aerodrome present or forecast weather because the dataset source — Phuket International Airport (many thanks for their work), and use D-7 Codes. You can read more about these weather codes and their use-cases; the link is above.\n",
    "However, Code Table D-7 is rich in codes, there are no weights to these codes, so I assigned weight values to each code by myself, based on open sources and precipitation amount info.\n",
    "\n",
    "## Dataset\n",
    "\n",
    "As mentioned above, the dataset is from Phuket International Airport, which reports on the weather daily and is the only open (paid) source of weather conditions on the island. I bought this dataset from Weather Spark. The study period covers 2015-2021 years. I could've taken a much broader period, but climate change will affect the study outcome.\n",
    "There is a lot of info in this dataset, but we will use mostly 12 columns of Weather codes (and labels). Each column represents 2 hours of weather condition observation.\n",
    "\n",
    "## Process"
   ]
  },
  {
   "cell_type": "code",
   "execution_count": 61,
   "metadata": {
    "execution": {
     "iopub.execute_input": "2022-08-09T06:13:21.485616Z",
     "iopub.status.busy": "2022-08-09T06:13:21.485230Z",
     "iopub.status.idle": "2022-08-09T06:13:21.490342Z",
     "shell.execute_reply": "2022-08-09T06:13:21.489157Z",
     "shell.execute_reply.started": "2022-08-09T06:13:21.485586Z"
    }
   },
   "outputs": [],
   "source": [
    "# Imports\n",
    "import pandas as pd\n",
    "import seaborn as sns"
   ]
  },
  {
   "cell_type": "markdown",
   "metadata": {},
   "source": [
    "### Cleaning and preparation\n",
    "\n",
    "#### 1. Dataframe selected, duplicates dropped"
   ]
  },
  {
   "cell_type": "code",
   "execution_count": 62,
   "metadata": {
    "execution": {
     "iopub.execute_input": "2022-08-09T06:13:21.578376Z",
     "iopub.status.busy": "2022-08-09T06:13:21.577500Z",
     "iopub.status.idle": "2022-08-09T06:13:21.651057Z",
     "shell.execute_reply": "2022-08-09T06:13:21.649910Z",
     "shell.execute_reply.started": "2022-08-09T06:13:21.578340Z"
    }
   },
   "outputs": [],
   "source": [
    "raw_data = pd.read_csv('../input/phuket-weather-daily-20152021/Phuket Weather Daily 2015-2021 - Copy of 2010-2022 Raw.csv')\n",
    "\n",
    "main_df = pd.DataFrame(raw_data, columns=[\n",
    "        'Date (String)',\n",
    "        'Weather Code 1 (String)',\n",
    "        'Weather Label 1 (String)',\n",
    "        'Weather Code 2 (String)',\n",
    "        'Weather Label 2 (String)',\n",
    "        'Weather Code 3 (String)',\n",
    "        'Weather Label 3 (String)',\n",
    "        'Weather Code 4 (String)',\n",
    "        'Weather Label 4 (String)',\n",
    "        'Weather Code 5 (String)',\n",
    "        'Weather Label 5 (String)',\n",
    "        'Weather Code 6 (String)',\n",
    "        'Weather Label 6 (String)',\n",
    "        'Weather Code 7 (String)',\n",
    "        'Weather Label 7 (String)',\n",
    "        'Weather Code 8 (String)',\n",
    "        'Weather Label 8 (String)',\n",
    "        'Weather Code 9 (String)',\n",
    "        'Weather Label 9 (String)',\n",
    "        'Weather Code 10 (String)',\n",
    "        'Weather Label 10 (String)',\n",
    "        'Weather Code 11 (String)',\n",
    "        'Weather Label 11 (String)',\n",
    "        'Weather Code 12 (String)',\n",
    "        'Weather Label 12 (String)'\n",
    "])\n",
    "\n",
    "main_df.drop_duplicates()"
   ]
  },
  {
   "cell_type": "markdown",
   "metadata": {},
   "source": [
    "#### 2. Dataset examined (types, null columns etc.)"
   ]
  },
  {
   "cell_type": "code",
   "execution_count": 63,
   "metadata": {
    "execution": {
     "iopub.execute_input": "2022-08-09T06:13:21.654445Z",
     "iopub.status.busy": "2022-08-09T06:13:21.653085Z",
     "iopub.status.idle": "2022-08-09T06:13:21.669744Z",
     "shell.execute_reply": "2022-08-09T06:13:21.668495Z",
     "shell.execute_reply.started": "2022-08-09T06:13:21.654405Z"
    }
   },
   "outputs": [],
   "source": [
    "# .describe() isn't really fit for us since we have primarily string values in our dataset\n",
    "main_df.info()"
   ]
  },
  {
   "cell_type": "markdown",
   "metadata": {},
   "source": [
    "Examining our dataset we can see, that these columns were never used:\n",
    "- Weather Code 11 (String)\n",
    "- Weather Label 11 (String)\n",
    "- Weather Code 12 (String)\n",
    "- Weather Label 12 (String)\n",
    "    \n",
    "That's why we will drop them out of our dataframe"
   ]
  },
  {
   "cell_type": "code",
   "execution_count": 64,
   "metadata": {
    "execution": {
     "iopub.execute_input": "2022-08-09T06:13:21.671830Z",
     "iopub.status.busy": "2022-08-09T06:13:21.671247Z",
     "iopub.status.idle": "2022-08-09T06:13:21.680752Z",
     "shell.execute_reply": "2022-08-09T06:13:21.679874Z",
     "shell.execute_reply.started": "2022-08-09T06:13:21.671736Z"
    }
   },
   "outputs": [],
   "source": [
    "main_df.drop(\n",
    "    columns=[\n",
    "        'Weather Code 11 (String)',\n",
    "        'Weather Label 11 (String)',\n",
    "        'Weather Code 12 (String)',\n",
    "        'Weather Label 12 (String)'\n",
    "    ],\n",
    "    axis=1,\n",
    "    inplace=True\n",
    ")"
   ]
  },
  {
   "cell_type": "markdown",
   "metadata": {},
   "source": [
    "#### 3. Columns types checked \n",
    "'Date (String)' with type string was converted to datetime. 2 new columns were created to help us aggregate our data later:\n",
    "- Date Year\n",
    "- Date Month"
   ]
  },
  {
   "cell_type": "code",
   "execution_count": 65,
   "metadata": {
    "execution": {
     "iopub.execute_input": "2022-08-09T06:13:21.683272Z",
     "iopub.status.busy": "2022-08-09T06:13:21.682953Z",
     "iopub.status.idle": "2022-08-09T06:13:21.695299Z",
     "shell.execute_reply": "2022-08-09T06:13:21.694373Z",
     "shell.execute_reply.started": "2022-08-09T06:13:21.683243Z"
    }
   },
   "outputs": [],
   "source": [
    "main_df['Date (String)'] = pd.to_datetime(main_df['Date (String)'])\n",
    "main_df['Date Year'] = pd.DatetimeIndex(main_df['Date (String)']).year\n",
    "main_df['Date Month'] = pd.DatetimeIndex(main_df['Date (String)']).month"
   ]
  },
  {
   "cell_type": "markdown",
   "metadata": {},
   "source": [
    "#### 4. Data completeness checked\n",
    "Since we are dealing with time-sensitive data, we should check if the last year contains data for the whole year."
   ]
  },
  {
   "cell_type": "code",
   "execution_count": 66,
   "metadata": {
    "execution": {
     "iopub.execute_input": "2022-08-09T06:13:21.785288Z",
     "iopub.status.busy": "2022-08-09T06:13:21.784710Z",
     "iopub.status.idle": "2022-08-09T06:13:21.810116Z",
     "shell.execute_reply": "2022-08-09T06:13:21.809098Z",
     "shell.execute_reply.started": "2022-08-09T06:13:21.785256Z"
    }
   },
   "outputs": [],
   "source": [
    "main_df.tail()"
   ]
  },
  {
   "cell_type": "markdown",
   "metadata": {},
   "source": [
    "As we see, 2022 year is not complete, so we should drop it out of our dataframe."
   ]
  },
  {
   "cell_type": "code",
   "execution_count": 67,
   "metadata": {
    "execution": {
     "iopub.execute_input": "2022-08-09T06:13:21.812249Z",
     "iopub.status.busy": "2022-08-09T06:13:21.811701Z",
     "iopub.status.idle": "2022-08-09T06:13:21.821199Z",
     "shell.execute_reply": "2022-08-09T06:13:21.820114Z",
     "shell.execute_reply.started": "2022-08-09T06:13:21.812217Z"
    }
   },
   "outputs": [],
   "source": [
    "main_df = main_df[~main_df['Date Year'].isin([2022])]"
   ]
  },
  {
   "cell_type": "markdown",
   "metadata": {},
   "source": [
    "#### 5. D-7 weather codes dataframe created\n",
    "As mentioned above, in order to calculate precipitation, we should assign weight values to the given D-7 codes.\n",
    "I actually did it manually in a spreadsheet and then transform it into arrays to create dataframe."
   ]
  },
  {
   "cell_type": "code",
   "execution_count": 68,
   "metadata": {
    "execution": {
     "iopub.execute_input": "2022-08-09T06:13:21.824104Z",
     "iopub.status.busy": "2022-08-09T06:13:21.823032Z",
     "iopub.status.idle": "2022-08-09T06:13:21.835530Z",
     "shell.execute_reply": "2022-08-09T06:13:21.834724Z",
     "shell.execute_reply.started": "2022-08-09T06:13:21.824060Z"
    }
   },
   "outputs": [],
   "source": [
    "weather_codes_values = {\n",
    "        'Weather Code': [\n",
    "            '-RA', 'TS', 'RA', 'BR', 'RERA', 'HZ', 'RETS', '+TSRA', 'TSRA', 'VCSH', '-TSRA',\n",
    "            '+RA', 'VCTS', 'RETSRA', '+SHRA', 'IWC17', 'IWC65', 'IWC21', 'IWC60', '-TS', '-DZ',\n",
    "            'IWC13', 'MIFG', 'IWC95', 'SHRA', 'IWC63', 'IWC61', 'DZ', 'IWC51', 'RESHRA',\n",
    "            '-SHRA', 'IWC10', '-BR', 'BCFG', 'FG', 'IWC16', 'FU', 'RE', 'PO', 'REDZ', 'FC',\n",
    "            'REFC'\n",
    "        ],\n",
    "        'Weather Label': [\n",
    "            'light rain', 'thunderstorm', 'rain', 'mist', 'recent rain', 'haze', 'recent thunderstorm',\n",
    "            'thunderstorm with heavy rain', 'thunderstorm with rain', 'showers in the vicinity',\n",
    "            'thunderstorm with light rain', 'heavy rain', 'thunderstorm in the vicinity',\n",
    "            'recent thunderstorm with rain', 'showers of heavy rain', 'thunderstorm', 'heavy rain',\n",
    "            'rain', 'light intermittent rain', 'mild thunderstorm', 'light drizzle',\n",
    "            'thunderstorm in the vicinity', 'shallow fog', 'thunderstorm with rain', 'showers of rain',\n",
    "            'rain', 'light rain', 'drizzle', 'light drizzle', 'recent showers of rain', 'showers of light rain',\n",
    "            'mist', 'light mist', 'patches of fog', 'fog', 'precipitation in the vicinity', 'smoke',\n",
    "            'recent unknown weather', 'well-developed dust/sand whirls', 'recent drizzle', 'funnel cloud',\n",
    "            'recent funnel cloud'\n",
    "        ],\n",
    "        'Value': [\n",
    "            3, 4, 4, 1, 2, 2, 2, 9, 8, 1, 7,\n",
    "            5, 1, 2, 6, 4, 5, 4, 3, 3, 3,\n",
    "            1, 2, 8, 5, 4, 3, 4, 3, 2,\n",
    "            4, 1, 1, 1, 2, 1, 3, 0, 7, 2, 9,\n",
    "            2\n",
    "        ]\n",
    "}\n",
    "\n",
    "weather_codes_df = pd.DataFrame(weather_codes_values)"
   ]
  },
  {
   "cell_type": "markdown",
   "metadata": {},
   "source": [
    "### Weather Condition Score\n",
    "Weather Condition Score will be our key metric to define our daily precipitation amount.\n",
    "To calculate it we will define a function, that will sum up values for weather codes in each row."
   ]
  },
  {
   "cell_type": "code",
   "execution_count": 69,
   "metadata": {
    "execution": {
     "iopub.execute_input": "2022-08-09T06:13:21.859938Z",
     "iopub.status.busy": "2022-08-09T06:13:21.858928Z",
     "iopub.status.idle": "2022-08-09T06:13:21.869374Z",
     "shell.execute_reply": "2022-08-09T06:13:21.868344Z",
     "shell.execute_reply.started": "2022-08-09T06:13:21.859894Z"
    }
   },
   "outputs": [],
   "source": [
    "def calc_weather_condition_score(df, row, weather_codes_values_df):\n",
    "    score = 0\n",
    "    \n",
    "    weather_code_columns = [\n",
    "      'Weather Code 1 (String)',\n",
    "      'Weather Code 2 (String)',\n",
    "      'Weather Code 3 (String)',\n",
    "      'Weather Code 4 (String)',\n",
    "      'Weather Code 5 (String)',\n",
    "      'Weather Code 6 (String)',\n",
    "      'Weather Code 7 (String)',\n",
    "      'Weather Code 8 (String)',\n",
    "      'Weather Code 9 (String)',\n",
    "      'Weather Code 10 (String)'\n",
    "    ]\n",
    "    \n",
    "    weather_codes_list = pd.concat([\n",
    "        df['Weather Code 1 (String)'],\n",
    "        df['Weather Code 2 (String)'],\n",
    "        df['Weather Code 3 (String)'],\n",
    "        df['Weather Code 4 (String)'],\n",
    "        df['Weather Code 5 (String)'],\n",
    "        df['Weather Code 6 (String)'],\n",
    "        df['Weather Code 7 (String)'],\n",
    "        df['Weather Code 8 (String)'],\n",
    "        df['Weather Code 9 (String)'],\n",
    "        df['Weather Code 10 (String)']\n",
    "    ]).unique().tolist()\n",
    "    \n",
    "    for index, item in enumerate(weather_code_columns):\n",
    "        if row[item] in weather_codes_list and pd.isna(row[item]) is False:\n",
    "            score += weather_codes_values_df.loc[\n",
    "                weather_codes_values_df['Weather Code'] == row[item],\n",
    "                'Value'\n",
    "            ].iat[0]\n",
    "    \n",
    "    return score"
   ]
  },
  {
   "cell_type": "markdown",
   "metadata": {},
   "source": [
    "Next, we will apply our function to the dataframe and create new column for the calculated values."
   ]
  },
  {
   "cell_type": "code",
   "execution_count": 70,
   "metadata": {
    "execution": {
     "iopub.execute_input": "2022-08-09T06:13:21.872030Z",
     "iopub.status.busy": "2022-08-09T06:13:21.871099Z",
     "iopub.status.idle": "2022-08-09T06:13:28.054136Z",
     "shell.execute_reply": "2022-08-09T06:13:28.053118Z",
     "shell.execute_reply.started": "2022-08-09T06:13:21.871984Z"
    }
   },
   "outputs": [],
   "source": [
    "main_df['Weather Condition Score'] = main_df.apply(\n",
    "    lambda row: calc_weather_condition_score(\n",
    "        main_df,\n",
    "        row,\n",
    "        weather_codes_df\n",
    "    ),\n",
    "    axis=1\n",
    ")\n",
    "main_df.head(10)"
   ]
  },
  {
   "cell_type": "markdown",
   "metadata": {},
   "source": [
    "### Question 1\n",
    "Which month is the best to come to Phuket during the Rain Season (the weather is primarily clear)?\n",
    "\n",
    "In order to find an answer we will aggregate score by year and month. To ease the use of aggregated values we will create a new dataframe."
   ]
  },
  {
   "cell_type": "code",
   "execution_count": 71,
   "metadata": {
    "execution": {
     "iopub.execute_input": "2022-08-09T06:13:28.056426Z",
     "iopub.status.busy": "2022-08-09T06:13:28.056106Z",
     "iopub.status.idle": "2022-08-09T06:13:28.071927Z",
     "shell.execute_reply": "2022-08-09T06:13:28.070662Z",
     "shell.execute_reply.started": "2022-08-09T06:13:28.056398Z"
    }
   },
   "outputs": [],
   "source": [
    "aggregated_df = pd.DataFrame(\n",
    "    main_df.groupby(['Date Year', 'Date Month'])['Weather Condition Score'].sum()\n",
    ")\n",
    "aggregated_df.reset_index(inplace=True)\n",
    "aggregated_df.rename(columns={'Weather Condition Score': 'Score For Month'}, inplace=True)\n",
    "aggregated_df.head()"
   ]
  },
  {
   "cell_type": "markdown",
   "metadata": {},
   "source": [
    "To present our data clear we will create column with month labels instead of just month numbers."
   ]
  },
  {
   "cell_type": "code",
   "execution_count": 72,
   "metadata": {
    "execution": {
     "iopub.execute_input": "2022-08-09T06:13:28.073570Z",
     "iopub.status.busy": "2022-08-09T06:13:28.072915Z",
     "iopub.status.idle": "2022-08-09T06:13:28.080574Z",
     "shell.execute_reply": "2022-08-09T06:13:28.079539Z",
     "shell.execute_reply.started": "2022-08-09T06:13:28.073538Z"
    }
   },
   "outputs": [],
   "source": [
    "month_labels = {\n",
    "    1: 'January',\n",
    "    2: 'February',\n",
    "    3: 'March',\n",
    "    4: 'April',\n",
    "    5: 'May',\n",
    "    6: 'June',\n",
    "    7: 'July',\n",
    "    8: 'August',\n",
    "    9: 'September',\n",
    "    10: 'October',\n",
    "    11: 'November',\n",
    "    12: 'December'\n",
    "}\n",
    "\n",
    "aggregated_df['Date Month Name'] = aggregated_df['Date Month'].apply(lambda row: month_labels[row])"
   ]
  },
  {
   "cell_type": "code",
   "execution_count": 73,
   "metadata": {
    "execution": {
     "iopub.execute_input": "2022-08-09T06:13:28.083322Z",
     "iopub.status.busy": "2022-08-09T06:13:28.082986Z",
     "iopub.status.idle": "2022-08-09T06:13:28.410053Z",
     "shell.execute_reply": "2022-08-09T06:13:28.408973Z",
     "shell.execute_reply.started": "2022-08-09T06:13:28.083294Z"
    }
   },
   "outputs": [],
   "source": [
    "sns.boxplot(\n",
    "    x='Date Month Name',\n",
    "    y='Score For Month',\n",
    "    data=aggregated_df,\n",
    "    palette='YlGnBu'\n",
    ")"
   ]
  },
  {
   "cell_type": "markdown",
   "metadata": {},
   "source": [
    "It appears **July** is the best month to come to Phuket during Rain Season. The median value of precipitation amount is the lowest among other months.\n",
    "Also, during regular (sunny) season **February** is best weather."
   ]
  },
  {
   "cell_type": "markdown",
   "metadata": {},
   "source": [
    "### Question 2\n",
    "Which month has the highest precipitation amount and is therefore not significant to stand by?\n",
    "\n",
    "Based on the previous plot, we could say, that **May** is the worst month to visit Phuket among all month, because box in the chart is relatively small."
   ]
  },
  {
   "cell_type": "markdown",
   "metadata": {},
   "source": [
    "### Question 3\n",
    "Is rain season worth its name? Is precipitation amount so different?\n",
    "\n",
    "To find an answer I want to calculate mean precipitation score"
   ]
  },
  {
   "cell_type": "code",
   "execution_count": 74,
   "metadata": {
    "execution": {
     "iopub.execute_input": "2022-08-09T06:13:28.411697Z",
     "iopub.status.busy": "2022-08-09T06:13:28.411185Z",
     "iopub.status.idle": "2022-08-09T06:13:28.428580Z",
     "shell.execute_reply": "2022-08-09T06:13:28.427577Z",
     "shell.execute_reply.started": "2022-08-09T06:13:28.411665Z"
    }
   },
   "outputs": [],
   "source": [
    "mean_precipitation_df = aggregated_df.groupby(['Date Month', 'Date Month Name'])['Score For Month'].mean().reset_index(name='Mean Precipitation Score')\n",
    "mean_precipitation_df"
   ]
  },
  {
   "cell_type": "code",
   "execution_count": 75,
   "metadata": {
    "execution": {
     "iopub.execute_input": "2022-08-09T06:13:28.430607Z",
     "iopub.status.busy": "2022-08-09T06:13:28.429910Z",
     "iopub.status.idle": "2022-08-09T06:13:28.661856Z",
     "shell.execute_reply": "2022-08-09T06:13:28.660628Z",
     "shell.execute_reply.started": "2022-08-09T06:13:28.430563Z"
    }
   },
   "outputs": [],
   "source": [
    "sns.lineplot(\n",
    "    x='Date Month Name',\n",
    "    y='Mean Precipitation Score',\n",
    "    data=mean_precipitation_df\n",
    ")"
   ]
  },
  {
   "cell_type": "markdown",
   "metadata": {},
   "source": [
    "As we can see, precipitation amount in **May** is higher by 700% comparing to **February**. So we could say that yes, the Rain Seaon worth its name."
   ]
  },
  {
   "cell_type": "markdown",
   "metadata": {},
   "source": [
    "### Question 4\n",
    "What was the rainiest day in the study period?\n",
    "\n",
    "To answer this question first we should calculate Max Precipitation Amount in every month, then find max value among similar months and then retrive the date for each value."
   ]
  },
  {
   "cell_type": "code",
   "execution_count": 76,
   "metadata": {
    "execution": {
     "iopub.execute_input": "2022-08-09T06:13:28.664166Z",
     "iopub.status.busy": "2022-08-09T06:13:28.663442Z",
     "iopub.status.idle": "2022-08-09T06:13:28.681522Z",
     "shell.execute_reply": "2022-08-09T06:13:28.680491Z",
     "shell.execute_reply.started": "2022-08-09T06:13:28.664117Z"
    }
   },
   "outputs": [],
   "source": [
    "aggregated_df['Max In Month'] = main_df.groupby(['Date Year', 'Date Month'])['Weather Condition Score'].max().reset_index()['Weather Condition Score']\n",
    "aggregated_df.head()"
   ]
  },
  {
   "cell_type": "code",
   "execution_count": 77,
   "metadata": {
    "execution": {
     "iopub.execute_input": "2022-08-09T06:13:28.683197Z",
     "iopub.status.busy": "2022-08-09T06:13:28.682883Z",
     "iopub.status.idle": "2022-08-09T06:13:28.709114Z",
     "shell.execute_reply": "2022-08-09T06:13:28.708234Z",
     "shell.execute_reply.started": "2022-08-09T06:13:28.683168Z"
    }
   },
   "outputs": [],
   "source": [
    "def calc_most_rainy_day(raw_df, grouped_df):\n",
    "    df: pd.DataFrame = grouped_df.groupby(['Date Month'])['Max In Month'].max().reset_index(name='Most Rainy Day Value')\n",
    "    \n",
    "    dates = list()\n",
    "    \n",
    "    for month, value in zip(\n",
    "        df['Date Month'].values,\n",
    "        df['Most Rainy Day Value'].values\n",
    "    ):\n",
    "        dates.append(raw_df.loc[\n",
    "            (raw_df['Weather Condition Score'] == value) &\n",
    "            (raw_df['Date Month'] == month),\n",
    "            'Date (String)'\n",
    "        ].head(1).item())\n",
    "    \n",
    "    df['Most Rainy Day Date'] = dates\n",
    "    \n",
    "    return df\n",
    "\n",
    "most_rainy_day_df = calc_most_rainy_day(main_df, aggregated_df)\n",
    "most_rainy_day_df"
   ]
  },
  {
   "cell_type": "markdown",
   "metadata": {},
   "source": [
    "Now we can find the maximum value among maximum values and find the rainiest day in study period."
   ]
  },
  {
   "cell_type": "code",
   "execution_count": 78,
   "metadata": {
    "execution": {
     "iopub.execute_input": "2022-08-09T06:13:28.710954Z",
     "iopub.status.busy": "2022-08-09T06:13:28.710482Z",
     "iopub.status.idle": "2022-08-09T06:13:28.721974Z",
     "shell.execute_reply": "2022-08-09T06:13:28.721035Z",
     "shell.execute_reply.started": "2022-08-09T06:13:28.710925Z"
    }
   },
   "outputs": [],
   "source": [
    "max_precipitation_date = most_rainy_day_df.loc[\n",
    "    (most_rainy_day_df['Most Rainy Day Value'] == most_rainy_day_df['Most Rainy Day Value'].max()),\n",
    "    ['Most Rainy Day Value', 'Most Rainy Day Date']\n",
    "]\n",
    "max_precipitation_date"
   ]
  },
  {
   "cell_type": "markdown",
   "metadata": {},
   "source": [
    "As we can see, the most rainy day is **10th September 2020** with precipitation amount of **44**."
   ]
  },
  {
   "cell_type": "markdown",
   "metadata": {},
   "source": [
    "## Conclusion\n",
    "To conclude the study here are my findings:\n",
    "1. July is the best month to come to Phuket during the Rain Season and February is the best during the regular season.\n",
    "2. May is your worst option if you want to visit Phuket.\n",
    "3. The Rain Season is worth its name by 700% higher in precipitation than in regular months.\n",
    "4. The rainiest day in the study period is 10th September 2020.\n",
    "\n",
    "I've made this case study, to sum up, my newly acquired knowledge of data analysis. This analysis is not perfect: a lot of insights are hidden and metrics calculated. Maybe a more complex version in the future is possible, from the lessons learned here. I have chosen some questions that are interesting to me here, but am open to suggestions. \n",
    "\n",
    "Hope now you know which month is the best for vacationing on Phuket island. I will be glad if you enjoyed the reading."
   ]
  }
 ],
 "metadata": {
  "kernelspec": {
   "display_name": "Python 3 (ipykernel)",
   "language": "python",
   "name": "python3"
  },
  "language_info": {
   "codemirror_mode": {
    "name": "ipython",
    "version": 3
   },
   "file_extension": ".py",
   "mimetype": "text/x-python",
   "name": "python",
   "nbconvert_exporter": "python",
   "pygments_lexer": "ipython3",
   "version": "3.8.9"
  }
 },
 "nbformat": 4,
 "nbformat_minor": 4
}
